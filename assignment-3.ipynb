{
 "cells": [
  {
   "cell_type": "code",
   "execution_count": 12,
   "metadata": {},
   "outputs": [],
   "source": [
    "import matplotlib.pyplot as plt\n",
    "import csv\n",
    "import os\n",
    "import numpy as np\n",
    "%matplotlib inline"
   ]
  },
  {
   "cell_type": "code",
   "execution_count": 13,
   "metadata": {},
   "outputs": [],
   "source": [
    "class Sample:\n",
    "    def __init__(self, label, processed_csv):\n",
    "        #A sample contains the label name and the accelerometer (x,y,z) and gyroscope data (x,y,z) tuples\n",
    "        #not necessary but its a bit more verbose to read than samples[label][0][0] for example\n",
    "        self.label = label\n",
    "        self.accelerometer = Sensor(processed_csv[0], processed_csv[1], processed_csv[2])\n",
    "        self.gyroscope = Sensor(processed_csv[3], processed_csv[4], processed_csv[5])\n",
    "\n",
    "class Sensor:\n",
    "    def __init__(self, x, y, z):\n",
    "        #again, not necessary but accessing it as accelerometer.x gives me the good brain chemicals\n",
    "        self.x = x\n",
    "        self.y = y\n",
    "        self.z = z\n",
    "    def print_range(self, num):\n",
    "        #prints the first num values of the sensor\n",
    "        print(self.x[:num])\n",
    "        print(self.y[:num])\n",
    "        print(self.z[:num])"
   ]
  },
  {
   "cell_type": "code",
   "execution_count": 14,
   "metadata": {},
   "outputs": [],
   "source": [
    "def clean_csv(csv_file):\n",
    "    #get labels\n",
    "    #we won't really need them since we know the order of the data but it's a sanity check\n",
    "    labels = csv_file[0]\n",
    "    #swap rows and columns, excluding the first row\n",
    "    #this makes it so csv_file[0] is the first column, csv_file[1] is the second column, etc.\n",
    "    #this makes it way more intuitive to access the data\n",
    "    csv_file = [list(i) for i in zip(*csv_file[1:])] \n",
    "    return labels, csv_file\n"
   ]
  },
  {
   "cell_type": "code",
   "execution_count": 15,
   "metadata": {},
   "outputs": [
    {
     "name": "stdout",
     "output_type": "stream",
     "text": [
      "data length: 200\n"
     ]
    }
   ],
   "source": [
    "#we need to load the csvs but standup is contained in a folder since it would be harder to splice since standing happens at variable times\n",
    "basedir = \"data/\"\n",
    "labels = [\"standup\", \"climbing\", \"walking\", \"still\"]\n",
    "#we will break our data into 50 samples per label (since standup is not logically divisible or concatenable and it has 50 samples\n",
    "#this means that the other samples, which are in a single file each, will be need to be roughly split into 50 samples each\n",
    "data = [] #normally we seperate based on label but the Sample class stores that so we can deal with it later and just dump everything in here\n",
    "for label in labels:\n",
    "    if label == \"standup\":\n",
    "        for filename in os.listdir(basedir+label):\n",
    "            if filename.endswith(\".csv\"):\n",
    "                with open(basedir+label+\"/\"+filename, 'r') as f:\n",
    "                    reader = csv.reader(f)\n",
    "                    csv_file = list(reader)\n",
    "                    x, csv_file = clean_csv(csv_file)\n",
    "                    new_sample = Sample(label, csv_file)\n",
    "                    data.append(new_sample)\n",
    "                    # print_csv(csv_file)\n",
    "    else:\n",
    "        with open(basedir+label+\".csv\", 'r') as f:\n",
    "            reader = csv.reader(f)\n",
    "            csv_file = list(reader)\n",
    "            x, csv_file = clean_csv(csv_file)\n",
    "            for i in range(50): #split into 50 samples\n",
    "                #the exact length of the csv's will vary so we need to use split it into 50 and discard the remainder\n",
    "                # print(i, \"start:stop\", i*(len(whole_csv_file)-1)//50, (i+1)*(len(whole_csv_file)-1)//50)\n",
    "                index_range = range(i*(len(csv_file[0]))//50,(i+1)*(len(csv_file[0])//50))\n",
    "                new_sample = Sample(label, [csv_file[0][index_range[0]:index_range[-1]], csv_file[1][index_range[0]:index_range[-1]], csv_file[2][index_range[0]:index_range[-1]], csv_file[3][index_range[0]:index_range[-1]], csv_file[4][index_range[0]:index_range[-1]], csv_file[5][index_range[0]:index_range[-1]]])\n",
    "                data.append(new_sample)\n",
    "                \n",
    "                \n",
    "\n",
    "#now we have all of our data in a list of Sample objects\n",
    "print(\"data length:\", len(data)) #should be 50*#labels - sanity check\n",
    "           "
   ]
  },
  {
   "cell_type": "code",
   "execution_count": 16,
   "metadata": {},
   "outputs": [
    {
     "name": "stdout",
     "output_type": "stream",
     "text": [
      "label: standup\n",
      "['6.3013', '6.3013', '6.0834', '5.7794', '5.4801']\n",
      "['-6.9429', '-6.9429', '-6.3563', '-5.9709', '-5.8871']\n",
      "['1.7501', '1.7501', '1.4317', '1.3431', '1.3503']\n",
      "['-0.7666', '-0.5626', '-0.4013', '-0.2675', '-0.2101']\n",
      "['2.3376', '2.3247', '2.2771', '2.2068', '2.147']\n",
      "['-1.4333', '-1.294', '-1.1511', '-0.9794', '-0.8237']\n",
      "label: climbing\n",
      "['4.124046261888743', '0.1354629479348659', '2.3746038102388383', '0.8280226030141115', '-1.8893290612459184']\n",
      "['-1.148789511373639', '2.676719794142246', '3.645176996023953', '0.4953573131985962', '-0.546045736297965']\n",
      "['5.238669884288311', '-3.5153581914559004', '-1.9783872547499837', '-0.2830637851700187', '-2.0810455190613864']\n",
      "['-0.5418083071708679', '1.20756995677948', '1.3309763669967651', '1.95184588432312', '0.1630344688892364']\n",
      "['-0.6679011583328247', '0.5179376602172852', '-0.1528165191411972', '0.2842824459075928', '0.1861748844385147']\n",
      "['1.2143772840499878', '2.977398633956909', '2.5979461669921875', '0.6369724273681641', '-0.5876218676567078']\n",
      "label: climbing\n",
      "['-8.189396589180827', '0.1383177163114771', '-0.301431508770585', '-1.9664035330981016', '4.131899897998571']\n",
      "['-1.9675129556447264', '-3.329223333165049', '-0.5422398777415975', '-2.4834894246324897', '1.9024343342736365']\n",
      "['-4.873577219729126', '-4.274552465176583', '0.9324342868641018', '-3.3972233949407933', '-4.434427969834208']\n",
      "['0.1108469367027282', '0.889745831489563', '0.0519071407616138', '-1.698714256286621', '-0.3893021047115326']\n",
      "['-1.4781135320663452', '-1.861111640930176', '-1.3413355350494385', '-0.1979085206985473', '-0.752962052822113']\n",
      "['-1.6637213230133057', '-2.2096333503723145', '-0.1599511206150055', '0.6476553082466125', '1.5552809238433838']\n",
      "label: standup\n",
      "['7.9197', '7.4337', '7.4337', '7.4696', '7.8526']\n",
      "['-7.2589', '-7.0099', '-7.0099', '-6.8735', '-7.1751']\n",
      "['-5.2598', '-4.5344', '-4.5344', '-3.9096', '-2.916']\n",
      "['0.7538', '0.7538', '0.7288', '0.7013', '0.6683']\n",
      "['-1.4535', '-1.4535', '-1.3667', '-1.0002', '-0.4932']\n",
      "['0.4445', '0.4445', '0.2857', '0.0633', '-0.1963']\n",
      "label: walking\n",
      "['-1.2396291814669966', '2.870549590849876', '-1.8204210908450185', '2.500921328687668', '-2.75788679600507']\n",
      "['3.768791977515817', '1.348587861096859', '3.378846903511881', '1.5375275476753711', '2.3444869043946266']\n",
      "['-5.209053913703561', '4.66850268316865', '-5.453262483039498', '4.066289069446921', '-5.175010189804435']\n",
      "['-0.0792081207036972', '1.8593873977661133', '-0.3230098485946655', '1.7435179948806765', '-0.5721631646156311']\n",
      "['-0.4689897298812866', '0.6519469618797302', '-1.1494218111038208', '1.2387335300445557', '-1.7255375385284424']\n",
      "['-0.2870411574840545', '0.8593315482139587', '0.1172016486525535', '0.6633068919181824', '0.5662520527839661']\n"
     ]
    }
   ],
   "source": [
    "#lets print some random label data\n",
    "for x in range (5):\n",
    "    sample = data[np.random.randint(0, len(data))]\n",
    "    print(\"label:\", sample.label)\n",
    "    sample.accelerometer.print_range(5)\n",
    "    sample.gyroscope.print_range(5)"
   ]
  }
 ],
 "metadata": {
  "kernelspec": {
   "display_name": "Python 3.10.8 64-bit (microsoft store)",
   "language": "python",
   "name": "python3"
  },
  "language_info": {
   "codemirror_mode": {
    "name": "ipython",
    "version": 3
   },
   "file_extension": ".py",
   "mimetype": "text/x-python",
   "name": "python",
   "nbconvert_exporter": "python",
   "pygments_lexer": "ipython3",
   "version": "3.10.8"
  },
  "orig_nbformat": 4,
  "vscode": {
   "interpreter": {
    "hash": "d6ee315cee4c7ea33837fad28cb74c1019330b7ecb83deb883c903e2f99639fe"
   }
  }
 },
 "nbformat": 4,
 "nbformat_minor": 2
}
