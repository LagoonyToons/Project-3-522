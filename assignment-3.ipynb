{
 "cells": [
  {
   "cell_type": "code",
   "execution_count": 225,
   "metadata": {},
   "outputs": [],
   "source": [
    "import matplotlib.pyplot as plt\n",
    "import csv\n",
    "import os\n",
    "import numpy as np\n",
    "%matplotlib inline"
   ]
  },
  {
   "cell_type": "code",
   "execution_count": 226,
   "metadata": {},
   "outputs": [],
   "source": [
    "#combine everything from data/Standup into one csv file called standup.csv\n",
    "# numread = 0\n",
    "# with open('standup.csv', 'w') as outfile:\n",
    "#     for fname in os.listdir('data/Standup'):\n",
    "#         with open('data/Standup/'+fname) as infile:\n",
    "#             #skip the first line if it's a header\n",
    "#             if numread == 0:\n",
    "#                 for line in infile:\n",
    "#                     outfile.write(line)\n",
    "#                     numread += 1\n",
    "#             else: #only add the header once\n",
    "#                 next(infile)\n",
    "#                 for line in infile:\n",
    "#                     outfile.write(line)\n",
    "#             #add a newline after each file\n",
    "#             outfile.write('\\n')\n",
    "\n",
    "    \n",
    "            "
   ]
  },
  {
   "cell_type": "code",
   "execution_count": 227,
   "metadata": {},
   "outputs": [],
   "source": [
    "class Sample:\n",
    "    def __init__(self, label, processed_csv):\n",
    "        #A sample contains the label name and the accelerometer (x,y,z) and gyroscope data (x,y,z) tuples\n",
    "        #not necessary but its a bit more verbose to read than samples[label][0][0] for example\n",
    "        self.label = label\n",
    "        self.accelerometer = Sensor(processed_csv[0], processed_csv[1], processed_csv[2])\n",
    "        self.gyroscope = Sensor(processed_csv[3], processed_csv[4], processed_csv[5])\n",
    "\n",
    "class Sensor:\n",
    "    def __init__(self, x, y, z):\n",
    "        #again, not necessary but accessing it as accelerometer.x gives me the good brain chemicals\n",
    "        self.x = np.array(x)\n",
    "        self.y = np.array(y)\n",
    "        self.z = np.array(z)\n",
    "    def print_range(self, num):\n",
    "        #prints the first num values of the sensor\n",
    "        print(self.x[:num])\n",
    "        print(self.y[:num])\n",
    "        print(self.z[:num])"
   ]
  },
  {
   "cell_type": "code",
   "execution_count": 228,
   "metadata": {},
   "outputs": [],
   "source": [
    "def clean_csv(csv_file):\n",
    "    #get labels\n",
    "    #we won't really need them since we know the order of the data but it's a sanity check\n",
    "    labels = csv_file[0]\n",
    "    #swap rows and columns, excluding the first row\n",
    "    #this makes it so csv_file[0] is the first column, csv_file[1] is the second column, etc.\n",
    "    #this makes it way more intuitive to access the data\n",
    "    csv_file = [list(i) for i in zip(*csv_file[1:])] \n",
    "    \n",
    "    for i in range(6): #we only have 6 columns, but the standing code had extras past that so I'm hard coding it. Sorry.\n",
    "        #convert strings to floats\n",
    "        for j in range(len(csv_file[i])):\n",
    "            try:\n",
    "                csv_file[i][j] = float(csv_file[i][j])\n",
    "            except:\n",
    "                print(\"Error converting to float: \" + str(csv_file[i][j]))\n",
    "\n",
    "    return labels, csv_file\n"
   ]
  },
  {
   "cell_type": "code",
   "execution_count": 229,
   "metadata": {},
   "outputs": [
    {
     "name": "stdout",
     "output_type": "stream",
     "text": [
      "data length: 250\n"
     ]
    }
   ],
   "source": [
    "#we need to load the csvs but standup is contained in a folder since it would be harder to splice since standing happens at variable times\n",
    "basedir = \"data/\"\n",
    "labels = [\"standup\", \"climbing_down\", \"climbing_up\", \"walking\", \"still\"]\n",
    "#we will break our data into 50 samples per label (since standup is not logically divisible or concatenable and it has 50 samples\n",
    "#this means that the other samples, which are in a single file each, will be need to be roughly split into 50 samples each\n",
    "data = [] #normally we seperate based on label but the Sample class stores that so we can deal with it later and just dump everything in here\n",
    "for label in labels:\n",
    "    if label == \"standup\":\n",
    "        for filename in os.listdir(basedir+label):\n",
    "            if filename.endswith(\".csv\"):\n",
    "                with open(basedir+label+\"/\"+filename, 'r') as f:\n",
    "                    reader = csv.reader(f)\n",
    "                    csv_file = list(reader)\n",
    "                    x, csv_file = clean_csv(csv_file)\n",
    "                    new_sample = Sample(label, csv_file)\n",
    "                    data.append(new_sample)\n",
    "                    # print_csv(csv_file)\n",
    "    else:\n",
    "        with open(basedir+label+\".csv\", 'r') as f:\n",
    "            reader = csv.reader(f)\n",
    "            csv_file = list(reader)\n",
    "            x, csv_file = clean_csv(csv_file)\n",
    "            for i in range(50): #split into 50 samples\n",
    "                #the exact length of the csv's will vary so we need to use split it into 50 and discard the remainder\n",
    "                # print(i, \"start:stop\", i*(len(whole_csv_file)-1)//50, (i+1)*(len(whole_csv_file)-1)//50)\n",
    "                index_range = range(i*(len(csv_file[0]))//50,(i+1)*(len(csv_file[0])//50))\n",
    "                #because I swapped rows and columns, accessing the data is gross\n",
    "                #this code is getting the window of data we want using that index range\n",
    "                new_sample = Sample(label, [csv_file[0][index_range[0]:index_range[-1]], csv_file[1][index_range[0]:index_range[-1]], csv_file[2][index_range[0]:index_range[-1]], csv_file[3][index_range[0]:index_range[-1]], csv_file[4][index_range[0]:index_range[-1]], csv_file[5][index_range[0]:index_range[-1]]])\n",
    "                data.append(new_sample)\n",
    "                \n",
    "                \n",
    "\n",
    "#now we have all of our data in a list of Sample objects\n",
    "print(\"data length:\", len(data)) #should be 50*#labels - sanity check\n",
    "           "
   ]
  },
  {
   "cell_type": "code",
   "execution_count": 230,
   "metadata": {},
   "outputs": [],
   "source": [
    "#lets print some random label data\n",
    "# for x in range (5):\n",
    "#     sample = data[np.random.randint(0, len(data))]\n",
    "#     print(\"label:\", sample.label)\n",
    "#     sample.accelerometer.print_range(5)\n",
    "#     sample.gyroscope.print_range(5)"
   ]
  },
  {
   "cell_type": "code",
   "execution_count": 231,
   "metadata": {},
   "outputs": [],
   "source": [
    "from sklearn.model_selection import KFold, cross_val_score\n",
    "from sklearn.ensemble import RandomForestClassifier\n",
    "from sklearn.svm import SVC\n",
    "from sklearn.model_selection import train_test_split\n",
    "from sklearn.preprocessing import *\n",
    "from sklearn.preprocessing import Normalizer\n",
    "from sklearn.metrics import confusion_matrix\n",
    "from sklearn.metrics import classification_report, accuracy_score\n",
    "\n",
    "import pandas as pd\n",
    "import seaborn as sns"
   ]
  },
  {
   "cell_type": "code",
   "execution_count": 232,
   "metadata": {},
   "outputs": [],
   "source": [
    "#function structure taken from Assignment 1 - task 2\n",
    "def featurize_input(data) -> np.array:\n",
    "    out = []\n",
    "    for sample in data:\n",
    "        fv = []\n",
    "        fv.append(np.ptp(sample.accelerometer.x))\n",
    "        fv.append(np.ptp(sample.accelerometer.y))\n",
    "        fv.append(np.ptp(sample.accelerometer.z))\n",
    "        fv.append(np.std(sample.accelerometer.x))\n",
    "        fv.append(np.std(sample.accelerometer.y))\n",
    "        fv.append(np.std(sample.accelerometer.z))\n",
    "        fv.append(np.mean(sample.accelerometer.x))\n",
    "        fv.append(np.mean(sample.accelerometer.y))\n",
    "        fv.append(np.mean(sample.accelerometer.z))\n",
    "        fv.append(np.median(sample.accelerometer.x))\n",
    "        fv.append(np.median(sample.accelerometer.y))\n",
    "        fv.append(np.median(sample.accelerometer.z))\n",
    "        \n",
    "        fv.append(np.mean(sample.gyroscope.x))\n",
    "        fv.append(np.mean(sample.gyroscope.y))\n",
    "        fv.append(np.mean(sample.gyroscope.z))\n",
    "        fv.append(np.ptp(sample.gyroscope.x))\n",
    "        fv.append(np.ptp(sample.gyroscope.y))\n",
    "        fv.append(np.ptp(sample.gyroscope.z))\n",
    "        fv.append(np.std(sample.gyroscope.x))\n",
    "        fv.append(np.std(sample.gyroscope.y))\n",
    "        fv.append(np.std(sample.gyroscope.z))\n",
    "\n",
    "        out.append(fv)\n",
    "\n",
    "    return np.array(out)\n"
   ]
  },
  {
   "cell_type": "code",
   "execution_count": 233,
   "metadata": {},
   "outputs": [
    {
     "name": "stdout",
     "output_type": "stream",
     "text": [
      "(250, 21)\n",
      "(250,)\n"
     ]
    }
   ],
   "source": [
    "featurized_data = featurize_input(data)\n",
    "print(featurized_data.shape)\n",
    "labels = [sample.label for sample in data]\n",
    "\n",
    "print(np.array(labels).shape)\n",
    "\n"
   ]
  },
  {
   "cell_type": "code",
   "execution_count": 234,
   "metadata": {},
   "outputs": [
    {
     "name": "stdout",
     "output_type": "stream",
     "text": [
      "Testing Accuracy: 0.8837333333333329\n",
      "Average Cross Validation Score from Training:\n",
      "0.9202614379084968\n",
      "\n",
      "\n",
      "Confusion Matrix:\n",
      "[[1041.  357.    0.    0.   54.]\n",
      " [ 148. 1361.    0.    0.    0.]\n",
      " [   0.    0. 1503.    0.    0.]\n",
      " [   0.   17.    0. 1465.   30.]\n",
      " [ 229.   37.    0.    0. 1258.]]\n",
      "\n",
      "\n",
      "Test Statistics:\n",
      "               precision    recall  f1-score   support\n",
      "\n",
      "climbing_down       0.59      0.67      0.62        15\n",
      "  climbing_up       0.79      0.79      0.79        19\n",
      "      standup       1.00      1.00      1.00        10\n",
      "        still       1.00      0.93      0.96        14\n",
      "      walking       0.88      0.82      0.85        17\n",
      "\n",
      "     accuracy                           0.83        75\n",
      "    macro avg       0.85      0.84      0.85        75\n",
      " weighted avg       0.84      0.83      0.83        75\n",
      "\n",
      "\n",
      "\n"
     ]
    },
    {
     "data": {
      "text/plain": [
       "[Text(0, 0.5, 'climbdown'),\n",
       " Text(0, 1.5, 'climbup'),\n",
       " Text(0, 2.5, 'standup'),\n",
       " Text(0, 3.5, 'still'),\n",
       " Text(0, 4.5, 'walking')]"
      ]
     },
     "execution_count": 234,
     "metadata": {},
     "output_type": "execute_result"
    },
    {
     "data": {
      "image/png": "[encoded data removed]",
      "text/plain": [
       "<Figure size 640x480 with 2 Axes>"
      ]
     },
     "metadata": {},
     "output_type": "display_data"
    }
   ],
   "source": [
    "# Training is almost instant so I'll do several runs to get a better idea of the accuracy\n",
    "avg = 0\n",
    "runs = 1\n",
    "classes = [\"climbdown\", \"climbup\", \"standup\", \"still\", \"walking\"]\n",
    "cm_total = np.zeros((5,5))\n",
    "for x in range(runs):\n",
    "    xtrain, xtest, ytrain, ytest = train_test_split(featurized_data, labels, test_size=0.3)\n",
    "\n",
    "    #training the model\n",
    "    clf = SVC(kernel=\"linear\") #note the default kernel here is 'rbf' - radial basis function\n",
    "    clf.fit(xtrain, ytrain)\n",
    "    cv_scores = cross_val_score(clf, xtrain, ytrain, cv=10)\n",
    "\n",
    "    #testing the model\n",
    "    ypred = clf.predict(xtest)\n",
    "    cm = confusion_matrix(ytest, ypred)\n",
    "    #add the confusion matrix to the total\n",
    "    cm_total += cm\n",
    "    cr = classification_report(ytest, ypred)\n",
    "    \n",
    "    avg += accuracy_score(ytest, ypred)\n",
    "\n",
    "#This is what we will be grading (>95 expected)\n",
    "print('Testing Accuracy:', avg/runs)\n",
    "print('Average Cross Validation Score from Training:', cv_scores.mean(), sep='\\n', end='\\n\\n\\n')\n",
    "print('Confusion Matrix:', cm_total, sep='\\n', end='\\n\\n\\n')\n",
    "print('Test Statistics:', cr, sep='\\n', end='\\n\\n\\n')\n",
    "# df_cm = pd.DataFrame(cm, index = labels, columns = labels)\n",
    "ax = plt.subplot()\n",
    "sns.heatmap(cm_total, annot=True,cmap=\"Greens\", fmt='g', ax=ax).set(title=\"Linear Kernel Confusion Matrix (1 seperate runs)\")\n",
    "ax.set_xlabel('Predicted labels')\n",
    "ax.set_ylabel('True labels')\n",
    "ax.xaxis.set_ticklabels(classes)\n",
    "ax.yaxis.set_ticklabels(classes)\n",
    "\n"
   ]
  }
 ],
 "metadata": {
  "kernelspec": {
   "display_name": "Python 3.10.8 64-bit (microsoft store)",
   "language": "python",
   "name": "python3"
  },
  "language_info": {
   "codemirror_mode": {
    "name": "ipython",
    "version": 3
   },
   "file_extension": ".py",
   "mimetype": "text/x-python",
   "name": "python",
   "nbconvert_exporter": "python",
   "pygments_lexer": "ipython3",
   "version": "3.10.8"
  },
  "orig_nbformat": 4,
  "vscode": {
   "interpreter": {
    "hash": "d6ee315cee4c7ea33837fad28cb74c1019330b7ecb83deb883c903e2f99639fe"
   }
  }
 },
 "nbformat": 4,
 "nbformat_minor": 2
}
