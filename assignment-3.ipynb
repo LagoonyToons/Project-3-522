{
 "cells": [
  {
   "cell_type": "code",
   "execution_count": 341,
   "metadata": {},
   "outputs": [],
   "source": [
    "import matplotlib.pyplot as plt\n",
    "import csv\n",
    "import os\n",
    "import numpy as np\n",
    "%matplotlib inline"
   ]
  },
  {
   "cell_type": "code",
   "execution_count": 342,
   "metadata": {},
   "outputs": [],
   "source": [
    "class Sample:\n",
    "    def __init__(self, label, processed_csv):\n",
    "        #A sample contains the label name and the accelerometer (x,y,z) and gyroscope data (x,y,z) tuples\n",
    "        #not necessary but its a bit more verbose to read than samples[label][0][0] for example\n",
    "        self.label = label\n",
    "        self.accelerometer = Sensor(processed_csv[0], processed_csv[1], processed_csv[2])\n",
    "        self.gyroscope = Sensor(processed_csv[3], processed_csv[4], processed_csv[5])\n",
    "\n",
    "class Sensor:\n",
    "    def __init__(self, x, y, z):\n",
    "        #again, not necessary but accessing it as accelerometer.x gives me the good brain chemicals\n",
    "        self.x = x\n",
    "        self.y = y\n",
    "        self.z = z\n",
    "    def print_range(self, num):\n",
    "        #prints the first num values of the sensor\n",
    "        print(self.x[:num])\n",
    "        print(self.y[:num])\n",
    "        print(self.z[:num])"
   ]
  },
  {
   "cell_type": "code",
   "execution_count": 343,
   "metadata": {},
   "outputs": [],
   "source": [
    "def clean_csv(csv_file):\n",
    "    #get labels\n",
    "    #we won't really need them since we know the order of the data but it's a sanity check\n",
    "    labels = csv_file[0]\n",
    "    #swap rows and columns, excluding the first row\n",
    "    #this makes it so csv_file[0] is the first column, csv_file[1] is the second column, etc.\n",
    "    #this makes it way more intuitive to access the data\n",
    "    csv_file = [list(i) for i in zip(*csv_file[1:])] \n",
    "    \n",
    "    for i in range(6): #we only have 6 columns, but the standing code had extras past that so I'm hard coding it. Sorry.\n",
    "        #convert strings to floats\n",
    "        for j in range(len(csv_file[i])):\n",
    "            try:\n",
    "                csv_file[i][j] = float(csv_file[i][j])\n",
    "            except:\n",
    "                print(\"Error converting to float: \" + str(csv_file[i][j]))\n",
    "\n",
    "    return labels, csv_file\n"
   ]
  },
  {
   "cell_type": "code",
   "execution_count": 344,
   "metadata": {},
   "outputs": [
    {
     "name": "stdout",
     "output_type": "stream",
     "text": [
      "data length: 250\n"
     ]
    }
   ],
   "source": [
    "#we need to load the csvs but standup is contained in a folder since it would be harder to splice since standing happens at variable times\n",
    "basedir = \"data/\"\n",
    "labels = [\"standup\", \"climbing_down\", \"climbing_up\", \"walking\", \"still\"]\n",
    "#we will break our data into 50 samples per label (since standup is not logically divisible or concatenable and it has 50 samples\n",
    "#this means that the other samples, which are in a single file each, will be need to be roughly split into 50 samples each\n",
    "data = [] #normally we seperate based on label but the Sample class stores that so we can deal with it later and just dump everything in here\n",
    "for label in labels:\n",
    "    if label == \"standup\":\n",
    "        for filename in os.listdir(basedir+label):\n",
    "            if filename.endswith(\".csv\"):\n",
    "                with open(basedir+label+\"/\"+filename, 'r') as f:\n",
    "                    reader = csv.reader(f)\n",
    "                    csv_file = list(reader)\n",
    "                    x, csv_file = clean_csv(csv_file)\n",
    "                    new_sample = Sample(label, csv_file)\n",
    "                    data.append(new_sample)\n",
    "                    # print_csv(csv_file)\n",
    "    else:\n",
    "        with open(basedir+label+\".csv\", 'r') as f:\n",
    "            reader = csv.reader(f)\n",
    "            csv_file = list(reader)\n",
    "            x, csv_file = clean_csv(csv_file)\n",
    "            for i in range(50): #split into 50 samples\n",
    "                #the exact length of the csv's will vary so we need to use split it into 50 and discard the remainder\n",
    "                # print(i, \"start:stop\", i*(len(whole_csv_file)-1)//50, (i+1)*(len(whole_csv_file)-1)//50)\n",
    "                index_range = range(i*(len(csv_file[0]))//50,(i+1)*(len(csv_file[0])//50))\n",
    "                #because I swapped rows and columns, accessing the data is gross\n",
    "                #this code is getting the window of data we want using that index range\n",
    "                new_sample = Sample(label, [csv_file[0][index_range[0]:index_range[-1]], csv_file[1][index_range[0]:index_range[-1]], csv_file[2][index_range[0]:index_range[-1]], csv_file[3][index_range[0]:index_range[-1]], csv_file[4][index_range[0]:index_range[-1]], csv_file[5][index_range[0]:index_range[-1]]])\n",
    "                data.append(new_sample)\n",
    "                \n",
    "                \n",
    "\n",
    "#now we have all of our data in a list of Sample objects\n",
    "print(\"data length:\", len(data)) #should be 50*#labels - sanity check\n",
    "           "
   ]
  },
  {
   "cell_type": "code",
   "execution_count": 345,
   "metadata": {},
   "outputs": [],
   "source": [
    "#lets print some random label data\n",
    "# for x in range (5):\n",
    "#     sample = data[np.random.randint(0, len(data))]\n",
    "#     print(\"label:\", sample.label)\n",
    "#     sample.accelerometer.print_range(5)\n",
    "#     sample.gyroscope.print_range(5)"
   ]
  },
  {
   "cell_type": "code",
   "execution_count": 346,
   "metadata": {},
   "outputs": [],
   "source": [
    "from sklearn.model_selection import KFold, cross_val_score\n",
    "from sklearn.ensemble import RandomForestClassifier\n",
    "from sklearn.svm import SVC\n",
    "from sklearn.model_selection import train_test_split\n",
    "from sklearn.preprocessing import *\n",
    "from sklearn.preprocessing import Normalizer\n",
    "from sklearn.metrics import confusion_matrix\n",
    "from sklearn.metrics import classification_report, accuracy_score"
   ]
  },
  {
   "cell_type": "code",
   "execution_count": 347,
   "metadata": {},
   "outputs": [],
   "source": [
    "#function structure taken from Assignment 1 - task 2\n",
    "def featurize_input(data) -> np.array:\n",
    "    out = []\n",
    "    for sample in data:\n",
    "        fv = []\n",
    "        \n",
    "        fv.append(np.min(sample.accelerometer.x))\n",
    "        fv.append(np.min(sample.accelerometer.y))\n",
    "        fv.append(np.min(sample.accelerometer.z))\n",
    "        fv.append(np.max(sample.accelerometer.x))\n",
    "        fv.append(np.max(sample.accelerometer.y))\n",
    "        fv.append(np.max(sample.accelerometer.z))\n",
    "        fv.append(np.ptp(sample.accelerometer.x))\n",
    "        fv.append(np.ptp(sample.accelerometer.y))\n",
    "        fv.append(np.ptp(sample.accelerometer.z))\n",
    "        \n",
    "        fv.append(np.mean(sample.gyroscope.x))\n",
    "        fv.append(np.mean(sample.gyroscope.y))\n",
    "        fv.append(np.mean(sample.gyroscope.z))\n",
    "        fv.append(np.ptp(sample.gyroscope.x))\n",
    "        fv.append(np.ptp(sample.gyroscope.y))\n",
    "        fv.append(np.ptp(sample.gyroscope.z))\n",
    "\n",
    "        out.append(fv)\n",
    "\n",
    "    return np.array(out)\n"
   ]
  },
  {
   "cell_type": "code",
   "execution_count": 348,
   "metadata": {},
   "outputs": [
    {
     "name": "stdout",
     "output_type": "stream",
     "text": [
      "(250, 15)\n",
      "(250,)\n"
     ]
    }
   ],
   "source": [
    "featurized_data = featurize_input(data)\n",
    "print(featurized_data.shape)\n",
    "labels = [sample.label for sample in data]\n",
    "\n",
    "print(np.array(labels).shape)\n",
    "\n"
   ]
  },
  {
   "cell_type": "code",
   "execution_count": 359,
   "metadata": {},
   "outputs": [
    {
     "name": "stdout",
     "output_type": "stream",
     "text": [
      "Average Cross Validation Score from Training:\n",
      "0.9084967320261439\n",
      "\n",
      "\n",
      "Confusion Matrix:\n",
      "[[12  2  0  0  0]\n",
      " [ 0 11  0  0  0]\n",
      " [ 0  0 19  0  0]\n",
      " [ 0  0  0 16  0]\n",
      " [ 0  0  0  0 15]]\n",
      "\n",
      "\n",
      "Test Statistics:\n",
      "               precision    recall  f1-score   support\n",
      "\n",
      "climbing_down       1.00      0.86      0.92        14\n",
      "  climbing_up       0.85      1.00      0.92        11\n",
      "      standup       1.00      1.00      1.00        19\n",
      "        still       1.00      1.00      1.00        16\n",
      "      walking       1.00      1.00      1.00        15\n",
      "\n",
      "     accuracy                           0.97        75\n",
      "    macro avg       0.97      0.97      0.97        75\n",
      " weighted avg       0.98      0.97      0.97        75\n",
      "\n",
      "\n",
      "\n",
      "Testing Accuracy: 0.9733333333333334\n"
     ]
    }
   ],
   "source": [
    "# run this code\n",
    "\n",
    "xtrain, xtest, ytrain, ytest = train_test_split(featurized_data, labels, test_size=0.30)\n",
    "\n",
    "#training the model\n",
    "clf = SVC() #note the default kernel here is 'rbf' - radial basis function\n",
    "clf.fit(xtrain, ytrain)\n",
    "cv_scores = cross_val_score(clf, xtrain, ytrain, cv=10)\n",
    "print('Average Cross Validation Score from Training:', cv_scores.mean(), sep='\\n', end='\\n\\n\\n')\n",
    "\n",
    "#testing the model\n",
    "ypred = clf.predict(xtest)\n",
    "cm = confusion_matrix(ytest, ypred)\n",
    "cr = classification_report(ytest, ypred)\n",
    "\n",
    "print('Confusion Matrix:', cm, sep='\\n', end='\\n\\n\\n')\n",
    "print('Test Statistics:', cr, sep='\\n', end='\\n\\n\\n')\n",
    "\n",
    "#This is what we will be grading (>95 expected)\n",
    "print('Testing Accuracy:', accuracy_score(ytest, ypred))"
   ]
  }
 ],
 "metadata": {
  "kernelspec": {
   "display_name": "Python 3.10.8 64-bit (microsoft store)",
   "language": "python",
   "name": "python3"
  },
  "language_info": {
   "codemirror_mode": {
    "name": "ipython",
    "version": 3
   },
   "file_extension": ".py",
   "mimetype": "text/x-python",
   "name": "python",
   "nbconvert_exporter": "python",
   "pygments_lexer": "ipython3",
   "version": "3.10.8"
  },
  "orig_nbformat": 4,
  "vscode": {
   "interpreter": {
    "hash": "d6ee315cee4c7ea33837fad28cb74c1019330b7ecb83deb883c903e2f99639fe"
   }
  }
 },
 "nbformat": 4,
 "nbformat_minor": 2
}
